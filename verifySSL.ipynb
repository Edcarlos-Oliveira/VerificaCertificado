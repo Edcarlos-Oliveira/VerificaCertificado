{
 "cells": [
  {
   "cell_type": "code",
   "execution_count": 17,
   "id": "e08ebf98",
   "metadata": {},
   "outputs": [],
   "source": [
    "# Biblioteca Necessária\n",
    "import requests\n",
    "import validators\n",
    "from time import sleep"
   ]
  },
  {
   "cell_type": "code",
   "execution_count": 47,
   "id": "687fc82a",
   "metadata": {},
   "outputs": [
    {
     "name": "stdout",
     "output_type": "stream",
     "text": [
      "Analisando a URL: https://www.alura.com.br/\n",
      "Certificado Falhou: HTTPSConnectionPool(host='www.alura.com.br', port=443): Max retries exceeded with url: / (Caused by SSLError(SSLEOFError(8, '[SSL: UNEXPECTED_EOF_WHILE_READING] EOF occurred in violation of protocol (_ssl.c:1032)')))\n",
      "Entenda sobre o erro no link: https://docs.python.org/3/library/ssl.html#ssl.SSLError\n"
     ]
    }
   ],
   "source": [
    "# Criação do Objeto\n",
    "class VerifiedCertificate(object):\n",
    "    # Construtor\n",
    "    def __init__(self, url, linkCode, linkError):\n",
    "        self.lc = linkCode\n",
    "        self.le = linkError\n",
    "        # Validação da URL\n",
    "        while True:\n",
    "            self.url = str(input(url))\n",
    "            if validators.url(self.url):\n",
    "                print(f\"Analisando a URL: {self.url}\")\n",
    "                sleep(1)\n",
    "                break\n",
    "            else:\n",
    "                print('Digite uma URL válida!!!')            \n",
    "    # Mostra o resultado\n",
    "    def getVerified(self):\n",
    "        try:\n",
    "            self.response = requests.get(self.url, verify=True)\n",
    "            if 200 <= self.response.status_code <= 299:\n",
    "                print(f'Resposta Bem Sucedida, Status: {self.response.status_code}')\n",
    "            else:\n",
    "                print(f'Resposta Mal Sucedida, Status: {self.response.status_code}\\nVerifique o código no link: {self.lc}')\n",
    "        except requests.exceptions.SSLError as err:\n",
    "            print(f'Certificado Falhou: {err}\\nEntenda sobre o erro no link: {self.le}')\n",
    "# Parâmetros\n",
    "url = 'Cole ou Digite a URL: '\n",
    "linkCode = 'https://developer.mozilla.org/pt-BR/docs/Web/HTTP/Reference/Status'\n",
    "linkError = 'https://docs.python.org/3/library/ssl.html#ssl.SSLError'\n",
    "\n",
    "# Instanciando o Objeto\n",
    "if __name__ == '__main__':\n",
    "    VerifiedCertificate(url, linkCode, linkError).getVerified()"
   ]
  }
 ],
 "metadata": {
  "kernelspec": {
   "display_name": "Python 3",
   "language": "python",
   "name": "python3"
  },
  "language_info": {
   "codemirror_mode": {
    "name": "ipython",
    "version": 3
   },
   "file_extension": ".py",
   "mimetype": "text/x-python",
   "name": "python",
   "nbconvert_exporter": "python",
   "pygments_lexer": "ipython3",
   "version": "3.13.7"
  }
 },
 "nbformat": 4,
 "nbformat_minor": 5
}
